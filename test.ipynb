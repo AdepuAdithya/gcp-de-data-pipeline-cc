{
 "cells": [
  {
   "cell_type": "code",
   "execution_count": 1,
   "id": "1400af0d",
   "metadata": {},
   "outputs": [
    {
     "name": "stdout",
     "output_type": "stream",
     "text": [
      "{'DepartmentID': 1, 'Name': 'HR', 'GroupName': 'Group1', 'ModifiedDate': '2023-10-01', 'RawIngestionTime': '2025-09-18 21:28:30', 'LoadDate': '2025-09-18'}\n"
     ]
    }
   ],
   "source": [
    "from datetime import datetime, date\n",
    "def parsecsv(line):\n",
    "    fields = line.split(',')\n",
    "    return {\n",
    "        'DepartmentID': int(fields[0]),\n",
    "        'Name': fields[1],\n",
    "        'GroupName': fields[2],\n",
    "        'ModifiedDate': fields[3],\n",
    "        'RawIngestionTime': datetime.now().strftime('%Y-%m-%d %H:%M:%S'),\n",
    "        'LoadDate': date.today().isoformat()        \n",
    "    }\n",
    "print(parsecsv(\"1,HR,Group1,2023-10-01\"))"
   ]
  }
 ],
 "metadata": {
  "kernelspec": {
   "display_name": "base",
   "language": "python",
   "name": "python3"
  },
  "language_info": {
   "codemirror_mode": {
    "name": "ipython",
    "version": 3
   },
   "file_extension": ".py",
   "mimetype": "text/x-python",
   "name": "python",
   "nbconvert_exporter": "python",
   "pygments_lexer": "ipython3",
   "version": "3.12.7"
  }
 },
 "nbformat": 4,
 "nbformat_minor": 5
}
