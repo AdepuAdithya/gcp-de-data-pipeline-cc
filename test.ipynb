{
 "cells": [
  {
   "cell_type": "code",
   "execution_count": 1,
   "id": "1400af0d",
   "metadata": {},
   "outputs": [],
   "source": [
    "# Section 1: Import apache_beam\n",
    "import apache_beam as beam\n"
   ]
  },
  {
   "cell_type": "code",
   "execution_count": 3,
   "id": "fb0bff61",
   "metadata": {},
   "outputs": [],
   "source": [
    "# Section 2: Define a function to print elements for debugging\n",
    "def print_element(element):\n",
    "    print(\"Element:\", element)\n",
    "    return element\n"
   ]
  },
  {
   "cell_type": "code",
   "execution_count": 11,
   "id": "bb44e32f",
   "metadata": {},
   "outputs": [
    {
     "name": "stdout",
     "output_type": "stream",
     "text": [
      "Created PCollection 'numbers'\n",
      "Applied 'Multiply by 10' transform\n",
      "Added 'Print Elements' transform\n",
      "Element: 10\n",
      "Element: 20\n",
      "Element: 30\n",
      "Element: 40\n",
      "Element: 50\n",
      "Pipeline run completed\n"
     ]
    }
   ],
   "source": [
    "# Section 3: Create the pipeline and data source\n",
    "with beam.Pipeline() as pipeline:\n",
    "    numbers = pipeline | 'Create Data' >> beam.Create([1, 2, 3, 4, 5])\n",
    "    print(\"Created PCollection 'numbers'\")\n",
    "# Section 4: Multiply each number by 10 (Map transform)\n",
    "    multiplied = numbers | 'Multiply by 10' >> beam.Map(lambda x: x * 10)\n",
    "    print(\"Applied 'Multiply by 10' transform\")\n",
    "    # Section 5: Print each element after multiplication for debugging\n",
    "    multiplied | 'Print Elements' >> beam.Map(print_element)\n",
    "    print(\"Added 'Print Elements' transform\")\n",
    "    # Section 6: Run the pipeline\n",
    "print(\"Pipeline run completed\")\n",
    "\n",
    "\n"
   ]
  },
  {
   "cell_type": "code",
   "execution_count": null,
   "id": "9be8c8bd",
   "metadata": {},
   "outputs": [
    {
     "ename": "IndentationError",
     "evalue": "unexpected indent (836647852.py, line 2)",
     "output_type": "error",
     "traceback": [
      "\u001b[1;36m  Cell \u001b[1;32mIn[8], line 2\u001b[1;36m\u001b[0m\n\u001b[1;33m    multiplied = numbers | 'Multiply by 10' >> beam.Map(lambda x: x * 10)\u001b[0m\n\u001b[1;37m    ^\u001b[0m\n\u001b[1;31mIndentationError\u001b[0m\u001b[1;31m:\u001b[0m unexpected indent\n"
     ]
    }
   ],
   "source": []
  }
 ],
 "metadata": {
  "kernelspec": {
   "display_name": "base",
   "language": "python",
   "name": "python3"
  },
  "language_info": {
   "codemirror_mode": {
    "name": "ipython",
    "version": 3
   },
   "file_extension": ".py",
   "mimetype": "text/x-python",
   "name": "python",
   "nbconvert_exporter": "python",
   "pygments_lexer": "ipython3",
   "version": "3.12.7"
  }
 },
 "nbformat": 4,
 "nbformat_minor": 5
}
